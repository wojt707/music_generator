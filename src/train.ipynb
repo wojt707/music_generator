{
 "cells": [
  {
   "cell_type": "code",
   "execution_count": 10,
   "metadata": {},
   "outputs": [],
   "source": [
    "import glob\n",
    "import matplotlib.pyplot as plt\n",
    "\n",
    "from preprocessing.model_helper import *\n",
    "\n",
    "from preprocessing.paths import READY_MIDI_PATH"
   ]
  },
  {
   "cell_type": "code",
   "execution_count": 11,
   "metadata": {},
   "outputs": [],
   "source": [
    "# seed_sequence = generate_random_seed_sequence(word_to_idx, 10)\n",
    "# generated = generate_sequence(\n",
    "#     model, seed_sequence, word_to_idx, idx_to_word, seq_length\n",
    "# )\n",
    "# with open(\"sth.txt\", \"w\") as f:\n",
    "#     f.write(\"\\n\".join(generated))\n",
    "# print(\"Generated sequence:\", \" \".join(generated))"
   ]
  },
  {
   "cell_type": "code",
   "execution_count": 12,
   "metadata": {},
   "outputs": [
    {
     "name": "stdout",
     "output_type": "stream",
     "text": [
      "['Ambient', 'Blues', 'Children', 'Classical', 'Country', 'Electronic', 'Folk', 'Jazz', 'Latin', 'Pop', 'Rap', 'Reggae', 'Religious', 'Rock', 'Soul', 'Soundtracks', 'Unknown', 'World']\n",
      "{'Ambient': 0, 'Blues': 1, 'Children': 2, 'Classical': 3, 'Country': 4, 'Electronic': 5, 'Folk': 6, 'Jazz': 7, 'Latin': 8, 'Pop': 9, 'Rap': 10, 'Reggae': 11, 'Religious': 12, 'Rock': 13, 'Soul': 14, 'Soundtracks': 15, 'Unknown': 16, 'World': 17}\n"
     ]
    }
   ],
   "source": [
    "# Build vocab and genre mappings\n",
    "word_to_idx, idx_to_word = build_vocab(READY_MIDI_PATH)\n",
    "genre_to_idx = {\n",
    "    genre: idx for idx, genre in enumerate(sorted(os.listdir(READY_MIDI_PATH)))\n",
    "}\n",
    "vocab_size = len(word_to_idx)\n",
    "genre_size = len(genre_to_idx)\n",
    "print(os.listdir(READY_MIDI_PATH))\n",
    "print(genre_to_idx)"
   ]
  },
  {
   "cell_type": "code",
   "execution_count": 13,
   "metadata": {},
   "outputs": [],
   "source": [
    "def train_all_tracks(\n",
    "    save_file,\n",
    "    seq_length=64,\n",
    "    batch_size=64,\n",
    "    embed_size=128,\n",
    "    hidden_size=256,\n",
    "    num_layers=2,\n",
    "    num_epochs=10,\n",
    "    lr=0.001,\n",
    "):\n",
    "    print(\"Training on all tracks...\")\n",
    "\n",
    "    # Split dataset\n",
    "    all_files = glob.glob(f\"{READY_MIDI_PATH}/**/*.txt\", recursive=True)\n",
    "    train_files, test_files = split_dataset(all_files)\n",
    "\n",
    "    # Load sequences\n",
    "    train_inputs, train_outputs, train_genres = load_sequences(\n",
    "        train_files, word_to_idx, genre_to_idx, seq_length\n",
    "    )\n",
    "    test_inputs, test_outputs, test_genres = load_sequences(\n",
    "        test_files, word_to_idx, genre_to_idx, seq_length\n",
    "    )\n",
    "\n",
    "    # Create data loaders\n",
    "    train_loader = create_loaders(train_inputs, train_outputs, train_genres, batch_size)\n",
    "    test_loader = create_loaders(test_inputs, test_outputs, test_genres, batch_size)\n",
    "\n",
    "    # Initialize and train model\n",
    "    model = LSTMGenerator(vocab_size, genre_size, embed_size, hidden_size, num_layers)\n",
    "    train_losses, test_losses = train_model(\n",
    "        model, train_loader, test_loader, num_epochs, save_file, lr\n",
    "    )\n",
    "\n",
    "    print(\"Training completed and model saved!\")\n",
    "\n",
    "    plt.plot(train_losses, label=\"Training loss\")\n",
    "    plt.plot(test_losses, label=\"Validation loss\")\n",
    "    plt.legend(frameon=False)\n",
    "\n",
    "\n",
    "# Training Script for Piano-like Tracks\n",
    "def train_piano_tracks(\n",
    "    save_file,\n",
    "    seq_length=64,\n",
    "    batch_size=64,\n",
    "    embed_size=128,\n",
    "    hidden_size=256,\n",
    "    num_layers=2,\n",
    "    num_epochs=10,\n",
    "    lr=0.001,\n",
    "):\n",
    "    print(\"Training on piano-like tracks...\")\n",
    "\n",
    "    # Filter for piano-like tracks\n",
    "    piano_files = glob.glob(f\"{READY_MIDI_PATH}/**/*piano*.txt\", recursive=True)\n",
    "    train_files, test_files = split_dataset(piano_files)\n",
    "\n",
    "    # Load sequences\n",
    "    train_inputs, train_outputs, train_genres = load_sequences(\n",
    "        train_files, word_to_idx, genre_to_idx, seq_length\n",
    "    )\n",
    "    test_inputs, test_outputs, test_genres = load_sequences(\n",
    "        test_files, word_to_idx, genre_to_idx, seq_length\n",
    "    )\n",
    "\n",
    "    # Create data loaders\n",
    "    train_loader = create_loaders(train_inputs, train_outputs, train_genres, batch_size)\n",
    "    test_loader = create_loaders(test_inputs, test_outputs, test_genres, batch_size)\n",
    "\n",
    "    # Initialize and train model\n",
    "    model = LSTMGenerator(vocab_size, genre_size, embed_size, hidden_size, num_layers)\n",
    "    train_losses, test_losses = train_model(\n",
    "        model, train_loader, test_loader, num_epochs, save_file, lr\n",
    "    )\n",
    "\n",
    "    print(\"Training completed and model saved!\")\n",
    "\n",
    "    plt.plot(train_losses, label=\"Training loss\")\n",
    "    plt.plot(test_losses, label=\"Validation loss\")\n",
    "    plt.legend(frameon=False)"
   ]
  },
  {
   "cell_type": "code",
   "execution_count": null,
   "metadata": {},
   "outputs": [
    {
     "name": "stdout",
     "output_type": "stream",
     "text": [
      "Training on piano-like tracks...\n"
     ]
    }
   ],
   "source": [
    "train_piano_tracks(\"piano_tracks_model.pt\")"
   ]
  },
  {
   "cell_type": "code",
   "execution_count": null,
   "metadata": {},
   "outputs": [],
   "source": [
    "train_all_tracks(\"all_tracks_model.pt\")"
   ]
  }
 ],
 "metadata": {
  "kernelspec": {
   "display_name": "Python 3",
   "language": "python",
   "name": "python3"
  },
  "language_info": {
   "codemirror_mode": {
    "name": "ipython",
    "version": 3
   },
   "file_extension": ".py",
   "mimetype": "text/x-python",
   "name": "python",
   "nbconvert_exporter": "python",
   "pygments_lexer": "ipython3",
   "version": "3.12.3"
  }
 },
 "nbformat": 4,
 "nbformat_minor": 2
}
