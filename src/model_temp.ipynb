{
 "cells": [
  {
   "cell_type": "code",
   "execution_count": 1,
   "metadata": {},
   "outputs": [
    {
     "name": "stdout",
     "output_type": "stream",
     "text": [
      "Words files generation start\n",
      "Error processing C:\\projects\\studia\\POLSLrepo_sem7\\music_generator\\data\\ready_midi\\Rock\\Rock-And-Roll\\Percy Sledge\\When A Man Loves A Woman\\TRXFBNU12903CCBE8A.mid: index out of range\n",
      "Error processing C:\\projects\\studia\\POLSLrepo_sem7\\music_generator\\data\\ready_midi\\Unknown\\Clap And Tap\\Dive\\Contact\\TRAFNAH128F42A400D.mid: cannot handle midi file format: <built-in function format>\n",
      "Error processing C:\\projects\\studia\\POLSLrepo_sem7\\music_generator\\data\\ready_midi\\Unknown\\Musical Advocacy\\Saga\\Conversations (live)\\TRMHCTT128F930C13A.mid: cannot handle midi file format: <built-in function format>\n",
      "Words files generation end\n"
     ]
    }
   ],
   "source": [
    "from preprocessing.midi import generate_word_files\n",
    "from preprocessing.paths import READY_MIDI_PATH\n",
    "\n",
    "print(\"Words files generation start\")\n",
    "generate_word_files(READY_MIDI_PATH)\n",
    "print(\"Words files generation end\")"
   ]
  }
 ],
 "metadata": {
  "kernelspec": {
   "display_name": "Python 3",
   "language": "python",
   "name": "python3"
  },
  "language_info": {
   "codemirror_mode": {
    "name": "ipython",
    "version": 3
   },
   "file_extension": ".py",
   "mimetype": "text/x-python",
   "name": "python",
   "nbconvert_exporter": "python",
   "pygments_lexer": "ipython3",
   "version": "3.12.3"
  }
 },
 "nbformat": 4,
 "nbformat_minor": 2
}
